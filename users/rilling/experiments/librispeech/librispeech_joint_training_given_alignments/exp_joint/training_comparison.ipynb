{
 "cells": [
  {
   "cell_type": "code",
   "execution_count": 9,
   "metadata": {},
   "outputs": [
    {
     "name": "stdout",
     "output_type": "stream",
     "text": [
      "The autoreload extension is already loaded. To reload it, use:\n",
      "  %reload_ext autoreload\n"
     ]
    }
   ],
   "source": [
    "import sys\n",
    "sys.path.append(\"/u/lukas.rilling/dev/\")\n",
    "import pandas as pd\n",
    "import numpy as np\n",
    "import matplotlib.pyplot as plt\n",
    "import glob\n",
    "import os\n",
    "%matplotlib qt5\n",
    "\n",
    "from returnn_training_progress import get_epoch_data\n",
    "from returnn_training_plot_nb import plot_df\n",
    "%load_ext autoreload\n",
    "%autoreload 2"
   ]
  },
  {
   "cell_type": "code",
   "execution_count": 14,
   "metadata": {},
   "outputs": [
    {
     "data": {
      "text/plain": [
       "{'/u/lukas.rilling/experiments/glow_tts_asr_v2/alias/experiments/librispeech/joint_training/given_alignments/raw_audio/joint_models/flow_given_alignment/ga_glowTTS_ASR_ffn_x_vector_v2/200ep/basic_init/ce_ls_1.0/training': '/ga_glowTTS_ASR_ffn_x_vector_v2/200ep/basic_init/ce_ls_1.0/',\n",
       " '/u/lukas.rilling/experiments/glow_tts_asr_v2/alias/experiments/librispeech/joint_training/given_alignments/raw_audio/joint_models/flow_given_alignment/ga_glowTTS_ASR_ffn_x_vector_v2/200ep/basic_init/ce_ls_0.1/training': '/ga_glowTTS_ASR_ffn_x_vector_v2/200ep/basic_init/ce_ls_0.1/',\n",
       " '/u/lukas.rilling/experiments/glow_tts_asr_v2/alias/experiments/librispeech/joint_training/given_alignments/raw_audio/joint_models/flow_given_alignment/ga_glowTTS_ASR_ffn_x_vector_v2/200ep/tts_pretrained/ce_ls_0.1/training': '/ga_glowTTS_ASR_ffn_x_vector_v2/200ep/tts_pretrained/ce_ls_0.1/',\n",
       " '/u/lukas.rilling/experiments/glow_tts_asr_v2/alias/experiments/librispeech/joint_training/given_alignments/raw_audio/joint_models/flow_given_alignment/ga_glowTTS_ASR_ffn_x_vector_v2/200ep/tts_pretrained/ce_ls_1.0/training': '/ga_glowTTS_ASR_ffn_x_vector_v2/200ep/tts_pretrained/ce_ls_1.0/',\n",
       " '/u/lukas.rilling/experiments/glow_tts_asr_v2/alias/experiments/librispeech/joint_training/given_alignments/raw_audio/joint_models/flow_given_alignment/ga_glowTTS_ASR_ffn_x_vector/200ep/basic_init/ce_ls_0.1/training': '/ga_glowTTS_ASR_ffn_x_vector/200ep/basic_init/ce_ls_0.1/',\n",
       " '/u/lukas.rilling/experiments/glow_tts_asr_v2/alias/experiments/librispeech/joint_training/given_alignments/raw_audio/joint_models/flow_given_alignment/ga_glowTTS_ASR_ffn_x_vector/200ep/tts_pretrained/ce_ls_0.1/training': '/ga_glowTTS_ASR_ffn_x_vector/200ep/tts_pretrained/ce_ls_0.1/',\n",
       " '/u/lukas.rilling/experiments/glow_tts_asr_v2/alias/experiments/librispeech/joint_training/given_alignments/raw_audio/joint_models/flow_given_alignment/ga_glowTTS_ASR_cnn_x_vector/basic_init/ce_ls_0.1/training': '/ga_glowTTS_ASR_cnn_x_vector/basic_init/ce_ls_0.1/',\n",
       " '/u/lukas.rilling/experiments/glow_tts_asr_v2/alias/experiments/librispeech/joint_training/given_alignments/raw_audio/joint_models/flow_given_alignment/ga_glowTTS_ASR_cnn_x_vector/tts_pretrained/ce_ls_0.1/training': '/ga_glowTTS_ASR_cnn_x_vector/tts_pretrained/ce_ls_0.1/'}"
      ]
     },
     "execution_count": 14,
     "metadata": {},
     "output_type": "execute_result"
    }
   ],
   "source": [
    "globs = [\n",
    "    # \"/u/lukas.rilling/experiments/glow_tts_asr_v2/alias/experiments/librispeech/joint_training/given_alignments/raw_audio/joint_models/glowTTS_ASR_ffn_x_vector/200ep/*/no_specaug/ce_ls_0.1/training\",\n",
    "    # \"/u/lukas.rilling/experiments/glow_tts_asr_v2/alias/experiments/librispeech/joint_training/given_alignments/raw_audio/joint_models/glowTTS_ASR_ffn_x_vector/no_specaug/ce_ls_0.1/training\",\n",
    "    \"/u/lukas.rilling/experiments/glow_tts_asr_v2/alias/experiments/librispeech/joint_training/given_alignments/raw_audio/joint_models/flow_given_alignment/ga_glowTTS_ASR_ffn_x_vector*/200ep/*/ce_ls_*/training\",\n",
    "    \"/u/lukas.rilling/experiments/glow_tts_asr_v2/alias/experiments/librispeech/joint_training/given_alignments/raw_audio/joint_models/flow_given_alignment/ga_glowTTS_ASR_cnn_x_vector*/*/ce_ls_*/training\",\n",
    "    # \"/u/lukas.rilling/experiments/glow_tts_asr_v2/alias/experiments/librispeech/joint_training/given_alignments/raw_audio/joint_models/glowTTS_ASR_cnn_x_vector/*/no_specaug/*/ce_ls_0.1/training\",\n",
    "]\n",
    "lr_files = []\n",
    "for g in globs:\n",
    "    lr_files += glob.glob(g)\n",
    "\n",
    "common_prefix = os.path.commonpath(lr_files)\n",
    "common_sufix = os.path.commonpath([l[::-1] for l in lr_files])[::-1]\n",
    "\n",
    "names = []\n",
    "for f in lr_files:\n",
    "    names.append(f.removeprefix(common_prefix).removesuffix(common_sufix))\n",
    "\n",
    "files = dict(zip(lr_files, names))\n",
    "files"
   ]
  },
  {
   "cell_type": "code",
   "execution_count": 15,
   "metadata": {},
   "outputs": [
    {
     "data": {
      "text/plain": [
       "{'/u/lukas.rilling/experiments/glow_tts_asr_v2/alias/experiments/librispeech/joint_training/given_alignments/raw_audio/joint_models/glowTTS_ASR_ffn_x_vector/specaug/ce_ls_0.1/training': 3,\n",
       " '/u/lukas.rilling/experiments/glow_tts_asr_v2/alias/experiments/librispeech/joint_training/given_alignments/raw_audio/joint_models/glowTTS_ASR_ffn_x_vector/specaug/ce_ls_1/training': 3,\n",
       " '/u/lukas.rilling/experiments/glow_tts_asr_v2/alias/experiments/librispeech/joint_training/given_alignments/raw_audio/joint_models/glowTTS_ASR_ffn_x_vector/no_specaug/ce_ls_1/training': 3,\n",
       " '/u/lukas.rilling/experiments/glow_tts_asr_v2/alias/experiments/librispeech/joint_training/given_alignments/raw_audio/joint_models/glowTTS_ASR_ffn_x_vector/no_specaug/ce_ls_0.1/training': 3}"
      ]
     },
     "execution_count": 15,
     "metadata": {},
     "output_type": "execute_result"
    }
   ],
   "source": [
    "partition_epochs = {\n",
    "    \"/u/lukas.rilling/experiments/glow_tts_asr_v2/alias/experiments/librispeech/joint_training/given_alignments/raw_audio/joint_models/glowTTS_ASR_ffn_x_vector/*/ce_ls_*/training\": 3\n",
    "}\n",
    "\n",
    "partition_epochs_2 = {}\n",
    "for k,v in partition_epochs.items():\n",
    "    new = {key: v for key in glob.glob(k)}\n",
    "    partition_epochs_2 = {**partition_epochs_2, **new}\n",
    "\n",
    "partition_epochs = partition_epochs_2\n",
    "partition_epochs"
   ]
  },
  {
   "cell_type": "code",
   "execution_count": 16,
   "metadata": {},
   "outputs": [
    {
     "name": "stdout",
     "output_type": "stream",
     "text": [
      "/u/lukas.rilling/experiments/glow_tts_asr_v2/alias/experiments/librispeech/joint_training/given_alignments/raw_audio/joint_models/flow_given_alignment/ga_glowTTS_ASR_ffn_x_vector_v2/200ep/basic_init/ce_ls_1.0/training: 1\n",
      "/u/lukas.rilling/experiments/glow_tts_asr_v2/alias/experiments/librispeech/joint_training/given_alignments/raw_audio/joint_models/flow_given_alignment/ga_glowTTS_ASR_ffn_x_vector_v2/200ep/basic_init/ce_ls_0.1/training: 1\n",
      "/u/lukas.rilling/experiments/glow_tts_asr_v2/alias/experiments/librispeech/joint_training/given_alignments/raw_audio/joint_models/flow_given_alignment/ga_glowTTS_ASR_ffn_x_vector_v2/200ep/tts_pretrained/ce_ls_0.1/training: 1\n",
      "/u/lukas.rilling/experiments/glow_tts_asr_v2/alias/experiments/librispeech/joint_training/given_alignments/raw_audio/joint_models/flow_given_alignment/ga_glowTTS_ASR_ffn_x_vector_v2/200ep/tts_pretrained/ce_ls_1.0/training: 1\n",
      "/u/lukas.rilling/experiments/glow_tts_asr_v2/alias/experiments/librispeech/joint_training/given_alignments/raw_audio/joint_models/flow_given_alignment/ga_glowTTS_ASR_ffn_x_vector/200ep/basic_init/ce_ls_0.1/training: 1\n",
      "/u/lukas.rilling/experiments/glow_tts_asr_v2/alias/experiments/librispeech/joint_training/given_alignments/raw_audio/joint_models/flow_given_alignment/ga_glowTTS_ASR_ffn_x_vector/200ep/tts_pretrained/ce_ls_0.1/training: 1\n",
      "/u/lukas.rilling/experiments/glow_tts_asr_v2/alias/experiments/librispeech/joint_training/given_alignments/raw_audio/joint_models/flow_given_alignment/ga_glowTTS_ASR_cnn_x_vector/basic_init/ce_ls_0.1/training: 1\n",
      "/u/lukas.rilling/experiments/glow_tts_asr_v2/alias/experiments/librispeech/joint_training/given_alignments/raw_audio/joint_models/flow_given_alignment/ga_glowTTS_ASR_cnn_x_vector/tts_pretrained/ce_ls_0.1/training: 1\n",
      "Large Font: False\n",
      "Setup Interactive Legend\n",
      "<matplotlib.backends.backend_qtagg.FigureCanvasQTAgg object at 0x7f2f8404f760>\n"
     ]
    }
   ],
   "source": [
    "error_data = {}\n",
    "labels = list(files.values())\n",
    "for i, lr_file in enumerate(lr_files):\n",
    "    breakpoint()\n",
    "    data = get_epoch_data(lr_file, epoch=None)\n",
    "    if data is None:\n",
    "        continue\n",
    "    p_e = 1 if lr_file not in partition_epochs else partition_epochs[lr_file]\n",
    "    print(f\"{lr_file}: {p_e}\")\n",
    "    error_data_tmp = []\n",
    "    for ep, ep_data in data.items():\n",
    "        ep_data_error = ep_data.pop(\"error\", {})\n",
    "        error_data_tmp.append(ep_data)\n",
    "        error_data_tmp[int(ep%p_e)-1].update(ep_data_error)\n",
    "        if ep % p_e == 0:\n",
    "            ep_data2 = pd.DataFrame(error_data_tmp).mean().to_dict()\n",
    "            error_data[(labels[i], int(ep//p_e))] = ep_data2\n",
    "            # error_data[(labels[i], int(ep//p_e))].update(ep_data_error)\n",
    "            error_data_tmp = []\n",
    "df = pd.DataFrame.from_dict(error_data, orient=\"index\")\n",
    "plot_df(\n",
    "    df,\n",
    "    plot_lr=False,\n",
    "    large_font=False,\n",
    "    shrink_axes=0.6,\n",
    "    # ylim_max=4,\n",
    "    # ylim_min=-0.9,\n",
    "    keys_exclude=\"devtrain\",\n",
    "    color_map=\"Set1\",\n",
    "    draggable=True\n",
    ")"
   ]
  },
  {
   "cell_type": "code",
   "execution_count": 5,
   "metadata": {},
   "outputs": [],
   "source": [
    "# error_data = {}\n",
    "# labels = list(files.values())\n",
    "# for i, lr_file in enumerate(lr_files):\n",
    "#     data = get_epoch_data(lr_file, epoch=None)\n",
    "#     if data is None:\n",
    "#         continue\n",
    "#     for ep, ep_data in data.items():\n",
    "#         ep_data_error = ep_data.pop(\"error\", {})\n",
    "#         error_data[(labels[i], int(ep))] = ep_data\n",
    "#         error_data[(labels[i], int(ep))].update(ep_data_error)\n",
    "# df = pd.DataFrame.from_dict(error_data, orient=\"index\")\n",
    "# plot_df(\n",
    "#     df,\n",
    "#     plot_lr=False,\n",
    "#     large_font=False,\n",
    "#     shrink_axes=0.6,\n",
    "#     # ylim_max=4,\n",
    "#     ylim_min=-0.9,\n",
    "#     keys_exclude=\"devtrain|ctc\",\n",
    "#     color_map=\"Set1\",\n",
    "# )"
   ]
  }
 ],
 "metadata": {
  "kernelspec": {
   "display_name": "sis_env",
   "language": "python",
   "name": "python3"
  },
  "language_info": {
   "codemirror_mode": {
    "name": "ipython",
    "version": 3
   },
   "file_extension": ".py",
   "mimetype": "text/x-python",
   "name": "python",
   "nbconvert_exporter": "python",
   "pygments_lexer": "ipython3",
   "version": "3.10.12"
  }
 },
 "nbformat": 4,
 "nbformat_minor": 2
}
